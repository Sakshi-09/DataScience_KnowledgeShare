{
  "nbformat": 4,
  "nbformat_minor": 0,
  "metadata": {
    "colab": {
      "name": "Python Logging",
      "provenance": [],
      "collapsed_sections": []
    },
    "kernelspec": {
      "name": "python3",
      "display_name": "Python 3"
    }
  },
  "cells": [
    {
      "cell_type": "markdown",
      "metadata": {
        "id": "fP-YJI8zBIME"
      },
      "source": [
        "## Python Logging - Deep Dive\n",
        "<b>24th  November, 2020</b>"
      ]
    },
    {
      "cell_type": "markdown",
      "metadata": {
        "id": "LpU2jh_XBs2R"
      },
      "source": [
        "---\n",
        "### Content\n",
        "* Why logging?\n",
        "* 5 levels of logging\n",
        "* What to include?\n",
        "* Basic example\n",
        "  * How to log to a file instead of console?\n",
        "  * How to change logging format?\n",
        "* What is and how to setup FileHandler and Formatter?\n",
        "* How to include traceback information in logged messages?\n",
        "* Using Filters\n",
        "* Using config files\n",
        "* Best practices and points to remember\n"
      ]
    },
    {
      "cell_type": "markdown",
      "metadata": {
        "id": "u5ZKffIMEGy9"
      },
      "source": [
        "---\n",
        "### Why Logging?\n",
        "Logging is a more structured and robust approach to finding what part of the script was executed, at what time and in certain cases inspect what values the variables hold. It's advantage during prototyping as well as in production is immense as you can have a log with all previous errors from your code as reference which will help you to replicate them for analysis.\n",
        "\n",
        "Using logging, you can:\n",
        "* Control message level to log only required ones\n",
        "* Control where to show or save the logs\n",
        "* Control how to format the logs with built-in message templates\n",
        "* Know which module/line the message is coming from"
      ]
    },
    {
      "cell_type": "markdown",
      "metadata": {
        "id": "bPq1wya1EFq4"
      },
      "source": [
        "---\n",
        "### 5 Levels of logging\n",
        "Every message you log is called a LogRecord. By default there are 5 levels of logs. You should classify your LogRecord to one of these levels depending on the severity: \n",
        "* DEBUG: Detailed information, for diagnosing problems.\n",
        "* INFO: Confirm things are working as expected.\n",
        "* WARNING: Something unexpected happened, or indicative of some problem. But the software is still working as expected.\n",
        "* ERROR: More serious problem, the software is not able to perform some function.\n",
        "* CRITICAL: A serious error, the program itself may be unable to continue running.\n",
        "\n",
        "**Note:**\n",
        "* By default, the logging module logs the messages with a severity level of WARNING or above (i.e. DEBUG and INFO are not logged)\n",
        "* You can set your own custom level of logging as well. "
      ]
    },
    {
      "cell_type": "markdown",
      "metadata": {
        "id": "doRfxENABHpw"
      },
      "source": [
        "---\n",
        "### What to include?\n",
        "This is completely upto you depending on your use case. However, your log should typically include atleast the following information:\n",
        "* When - timestamp of the logged event\n",
        "* Who - the application/logger name \n",
        "* Where - line number or the function/module name\n",
        "* What - log level and the message\n",
        "\n",
        "**Note:** \n",
        "* Keep in mind not to include any sensitive information in your logs"
      ]
    },
    {
      "cell_type": "markdown",
      "metadata": {
        "id": "gezgvo68A6dd"
      },
      "source": [
        "---\n",
        "### Basic Example\n",
        "\n",
        "Few lines have been commented out. You can uncomment those and run to see how your output changes."
      ]
    },
    {
      "cell_type": "code",
      "metadata": {
        "id": "uL1GTTHHBu8Y"
      },
      "source": [
        "import logging\n",
        "\n",
        "# This is optional and sets the basic configuration for the root logger (Sets everything to default values)\n",
        "logging.root.handlers = []\n",
        "logging.basicConfig(\n",
        "    # filename = 'sample.log',  # path to the log file\n",
        "    # format = '%(asctime)s - %(name)s - %(lineno)d - %(levelname)s - %(message)s',  # logging format \n",
        "    # datefmt = '%d-%b %H:%M:%S',  # format for date-time\n",
        "    level = logging.WARNING,  # sets the minimum level of log severity\n",
        ")"
      ],
      "execution_count": 51,
      "outputs": []
    },
    {
      "cell_type": "code",
      "metadata": {
        "id": "-0uay0BmI2mL"
      },
      "source": [
        "logger = logging.getLogger()  # setup a new logger object (By default if no name is given it gets the root logger)\n",
        "logger.setLevel(logging.INFO)  # sets the minimum level of log severity that the logger accepts (if root logger, this line overwrites any setting given in basicConfig)\n",
        "\n",
        "# function to calculate hypotenuse\n",
        "def hypotenuse(a, b):\n",
        "\n",
        "  # logs a warning message if input is non positive\n",
        "  if a<=0: logger.warning(f'a is non positive := {a}')\n",
        "  if b<=0: logger.warning(f'a is non positive := {b}')\n",
        "\n",
        "  return (a**2 + b**2)**0.5"
      ],
      "execution_count": 59,
      "outputs": []
    },
    {
      "cell_type": "code",
      "metadata": {
        "colab": {
          "base_uri": "https://localhost:8080/"
        },
        "id": "GihsxFOmLUgB",
        "outputId": "3dd13bc5-59fc-4e00-9013-228305f3c036"
      },
      "source": [
        "a = 0\n",
        "b = 4\n",
        "logger.info(f'Hypotenuse of {a}, {b} is {hypotenuse(a, b)}')"
      ],
      "execution_count": 60,
      "outputs": [
        {
          "output_type": "stream",
          "text": [
            "WARNING:root:a is non positive := 0\n",
            "INFO:root:Hypotenuse of 0, 4 is 4.0\n"
          ],
          "name": "stderr"
        }
      ]
    },
    {
      "cell_type": "code",
      "metadata": {
        "id": "1gaZ9W8LSPbx"
      },
      "source": [
        "# Importing module1.py\n",
        "import module1"
      ],
      "execution_count": 61,
      "outputs": []
    },
    {
      "cell_type": "markdown",
      "metadata": {
        "id": "IazDKIrnTQ-P"
      },
      "source": [
        "*module1.py* contains only the following lines of code\n",
        "```\n",
        "import logging\n",
        "\n",
        "logger = logging.getLogger(__name__)\n",
        "\n",
        "def trail():\n",
        "  logger.info(f'Hello from the other side!')\n",
        "```\n",
        "\n",
        "Notice the variable *\\_\\_name__* in *logging.getLogger()*. This automatically gets sets the logger name to filename (in this case module1)\n"
      ]
    },
    {
      "cell_type": "code",
      "metadata": {
        "colab": {
          "base_uri": "https://localhost:8080/"
        },
        "id": "_VPlDqsyT7wc",
        "outputId": "4134a356-2508-4e19-aca8-bbafd62596b4"
      },
      "source": [
        "module1.trail()  #  verify that logger name has changed to module1"
      ],
      "execution_count": 62,
      "outputs": [
        {
          "output_type": "stream",
          "text": [
            "INFO:module1:Hello from the other side!\n"
          ],
          "name": "stderr"
        }
      ]
    },
    {
      "cell_type": "markdown",
      "metadata": {
        "id": "c89zi2jqWO3H"
      },
      "source": [
        "* Internally, the message is turned into a LogRecord object and routed to a Handler object registered for this logger. The handler will then use a Formatter to turn this LogRecord into a string and emit that string. \n",
        "* In general, a module should only emit log messages and should not be configured how those messages are handled. That should be the responsibility of the application.\n",
        "  * Notice that in module1 only the logger object is created and no formatting or configuration is set. It picks up these configurations from the current file.\n",
        "* **setLevel()** method for a logger determines which severity of messages it will pass to its handlers"
      ]
    },
    {
      "cell_type": "markdown",
      "metadata": {
        "id": "5Lb5g4tVY_v7"
      },
      "source": [
        "---\n",
        "### FileHandler and Formatter\n",
        "\n",
        "The task of a handler is to take the LogRecord from the logger, apply formatting and then pass that string to its final destination (a log file,screen etc).\n",
        "\n",
        "The FileHandler() and Formatter() classes are used to setup the output file and format of the messages for loggers.\n",
        "* *logging.basicConfig()* was used to setup the filename and format of the messages in the root logger.\n",
        "* Custom loggers will fallback and write to the file set by the root logger unless you set a handler for your custom logger.\n",
        "* There is a **setLevel()**  method for handlers as well\n",
        "  * A logger can have multiple handlers. You can set a certain handler to log all messages while another handler to log only ERROR messages\n",
        "\n",
        "There are other types of handlers as well which can be used for various purposes. Some common ones:\n",
        "* StreamHandler: instead of logging to a file, it displays the log on the console\n",
        "* SMTPHandler: send an email (mostly used for sending critical logs)\n",
        "* TimeRotatingFileHandler: creates a new log file after fixed time interval (eg. weekly, daily)\n",
        "\n",
        "Full list of handlers: https://docs.python.org/3.9/library/logging.handlers.html"
      ]
    },
    {
      "cell_type": "code",
      "metadata": {
        "colab": {
          "base_uri": "https://localhost:8080/"
        },
        "id": "Uh9TcCNsb_al",
        "outputId": "d385ba93-ed65-4681-8769-957c8dd24260"
      },
      "source": [
        "logger2 = logging.getLogger('log2')  # setting a new logger\n",
        "logger2.info('Hi')  # logs messages in the default format (same as root logger)"
      ],
      "execution_count": 66,
      "outputs": [
        {
          "output_type": "stream",
          "text": [
            "INFO:log2:Hi\n"
          ],
          "name": "stderr"
        }
      ]
    },
    {
      "cell_type": "code",
      "metadata": {
        "colab": {
          "base_uri": "https://localhost:8080/"
        },
        "id": "3Kxat9QycL8u",
        "outputId": "00de4f9f-4678-42b1-a5a6-5a635eb0f818"
      },
      "source": [
        "# handler = logging.FileHandler('file.log')\n",
        "handler = logging.StreamHandler()  # creates a handler object\n",
        "formatter = logging.Formatter('%(asctime)s - %(levelname)s - %(funcName)s - %(message)s')  # creates a formatter object\n",
        "handler.setFormatter(formatter)  # sets the formatter for the handler\n",
        "logger2.handlers = []  # removes all custom handlers \n",
        "logger2.addHandler(handler)  # adds the handler to the logger\n",
        "logger2.info('Hi')  # As a new handler is added, hence multiple logging"
      ],
      "execution_count": 67,
      "outputs": [
        {
          "output_type": "stream",
          "text": [
            "2020-11-25 11:16:09,766 - INFO - <module> - Hi\n",
            "INFO:log2:Hi\n"
          ],
          "name": "stderr"
        }
      ]
    },
    {
      "cell_type": "code",
      "metadata": {
        "colab": {
          "base_uri": "https://localhost:8080/"
        },
        "id": "1yvn7nhUewRh",
        "outputId": "63216369-1f9d-4fb2-f0a3-133dbfbdb10b"
      },
      "source": [
        "handler.setLevel(logging.WARNING)  # logging level of the handler can be changed on the fly\n",
        "logger2.info('Hi')  # This message is not logged by the new handler"
      ],
      "execution_count": 68,
      "outputs": [
        {
          "output_type": "stream",
          "text": [
            "INFO:log2:Hi\n"
          ],
          "name": "stderr"
        }
      ]
    },
    {
      "cell_type": "markdown",
      "metadata": {
        "id": "p_rnST6Pfta4"
      },
      "source": [
        "---\n",
        "### Traceback messages\n",
        "* You can include the entire error message with traceback using *exc_info=True* parameter\n",
        "* *logging.exception()* logs a message with level ERROR and adds exception information to the message. It is like calling *logging.error(exc_info=True)*"
      ]
    },
    {
      "cell_type": "code",
      "metadata": {
        "id": "BVdDsAX1hJih"
      },
      "source": [
        "def divide(a, b):\n",
        "  logger2.info(f'Dividing {a} by {b}')\n",
        "  try:\n",
        "    return a/b\n",
        "  except:\n",
        "    # logger2.error(f'Division by 0', exc_info=True)\n",
        "    logger2.exception(f'Division by 0')  # works exactly like the above line"
      ],
      "execution_count": 69,
      "outputs": []
    },
    {
      "cell_type": "code",
      "metadata": {
        "colab": {
          "base_uri": "https://localhost:8080/"
        },
        "id": "bv7jqXdBhnZh",
        "outputId": "daa40dcb-d29b-4765-94ff-4f58a1ec31ae"
      },
      "source": [
        "logger2.handlers = []\n",
        "divide(2,0)"
      ],
      "execution_count": 70,
      "outputs": [
        {
          "output_type": "stream",
          "text": [
            "INFO:log2:Dividing 2 by 0\n",
            "ERROR:log2:Division by 0\n",
            "Traceback (most recent call last):\n",
            "  File \"<ipython-input-69-19587b5edd7c>\", line 4, in divide\n",
            "    return a/b\n",
            "ZeroDivisionError: division by zero\n"
          ],
          "name": "stderr"
        }
      ]
    },
    {
      "cell_type": "markdown",
      "metadata": {
        "id": "EUVLiAHLjYf6"
      },
      "source": [
        "---\n",
        "### Using Filters\n",
        "Filters provide extra logic to determine which log messages to output. It is a step after checking the basic logging level, but before passing the log message to the handlers. The output of the filter should be either True or False. You can even use filters to make new attributes which you can use in your formatting.\n",
        "\n",
        "\n",
        "The flow of the logic is something like this:\n",
        "* The log message is executed.\n",
        "* Logger checks the severity of the LogRecord. If it is less severe than the level set then it is not logged.\n",
        "* Logger applies the filter. If it doesn't meet the filter condition, it is not logged.\n",
        "* Handler checks the severity of the LogRecord. If it is less severe than the level set then it is not logged."
      ]
    },
    {
      "cell_type": "code",
      "metadata": {
        "id": "OLRs2Zl4SN9_"
      },
      "source": [
        "class CustomFilter(logging.Filter):\n",
        "  # a dictionary to map levels to color codes \n",
        "  COLOR = {\n",
        "      'DEBUG': 'GREEN',\n",
        "      'INFO': 'GREEN',\n",
        "      'WARNING': 'YELLOW',\n",
        "      'ERROR': 'RED',\n",
        "      'CRITICAL': 'RED',\n",
        "  }\n",
        "\n",
        "  def filter(self, record):\n",
        "    record.color = CustomFilter.COLOR[record.levelname]  # setting a custom attribute 'color' based on severity level\n",
        "    \n",
        "    # logic for only accepting lines that are below line number 3\n",
        "    if record.lineno > 3:\n",
        "      return False\n",
        "    else:\n",
        "      return True"
      ],
      "execution_count": 71,
      "outputs": []
    },
    {
      "cell_type": "code",
      "metadata": {
        "id": "jfdvUpAPljei"
      },
      "source": [
        "handler = logging.StreamHandler()\n",
        "formatter = logging.Formatter('%(color)s - %(message)s')\n",
        "handler.setFormatter(formatter)\n",
        "logger2.handlers = []\n",
        "logger2.addHandler(handler)\n",
        "logger2.addFilter(CustomFilter())  # applying custom filter to the logger"
      ],
      "execution_count": 79,
      "outputs": []
    },
    {
      "cell_type": "code",
      "metadata": {
        "colab": {
          "base_uri": "https://localhost:8080/"
        },
        "id": "Au-7RAF2mLdJ",
        "outputId": "caeb1846-929c-4060-bc1e-4e192e116b96"
      },
      "source": [
        "logger2.warning('This should appear')\n",
        "\n",
        "\n",
        "logger2.warning('This should not appear')"
      ],
      "execution_count": 80,
      "outputs": [
        {
          "output_type": "stream",
          "text": [
            "YELLOW - This should appear\n"
          ],
          "name": "stderr"
        }
      ]
    },
    {
      "cell_type": "markdown",
      "metadata": {
        "id": "12pAGvhXmT4j"
      },
      "source": [
        "---\n",
        "### Configuration\n",
        "You can configure logging as shown above using the module and class functions or by creating a config file or a dictionary and loading it using *fileConfig()* or *dictConfig()* respectively. These are useful in case you want to change your logging configuration in a running application."
      ]
    },
    {
      "cell_type": "markdown",
      "metadata": {
        "id": "_Wt1CmUenR-V"
      },
      "source": [
        "---\n",
        "### Best Practices and Points to Remember\n",
        "* Use different loggers for different sources\n",
        "* Use different handlers for different destinations/formats\n",
        "* Use *\\_\\_name__* variable while naming loggers in modules so that they take the name of the module automatically\n",
        "* Avoid using custom levels of logging and try sticking to the default 5 levels\n",
        "* *setLevel()* can be used to change the minimum severity of loggers and handlers on the fly\n",
        "* *logging.exception()* should only be called using an exception handler as this method always dumps exception information\n",
        "* *basicConfig()* is optional. However, if not used, it is important to set a handler or else you might not receive INFO and DEBUG messages even after changing severity level of the logger.\n",
        "* By default, the *basicConfig()* sets does the following:\n",
        "  * sets a StreamHandler()\n",
        "  * sets the log format like '%(levelname)s:%(name)s:%(message)s'\n",
        "  * level is set to logging.WARNING\n",
        "* Repeated calls to *basicConfig()* are ignored by default. You have to remove the handler configured during the previous *basicConfig()* call in order to excecute it again.\n",
        "```\n",
        "logging.root.handlers = [] \n",
        "logging.basicConfig()\n",
        "```"
      ]
    },
    {
      "cell_type": "code",
      "metadata": {
        "id": "mS4KtUFxo7JP"
      },
      "source": [
        ""
      ],
      "execution_count": null,
      "outputs": []
    }
  ]
}